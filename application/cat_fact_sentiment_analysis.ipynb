{
 "cells": [
  {
   "cell_type": "code",
   "execution_count": 6,
   "metadata": {},
   "outputs": [
    {
     "name": "stdout",
     "output_type": "stream",
     "text": [
      "Unlike dogs, cats do not have a sweet tooth. Scientists believe this is due to a mutation in a key taste receptor.\n"
     ]
    }
   ],
   "source": [
    "\n",
    "import os \n",
    "import sqlite3\n",
    "import spacy\n",
    "\n",
    "\n",
    "sql_to_reterive_cat_fact = \"SELECT fact FROM CAT_FACTS\"\n",
    "with sqlite3.connect(\"dbs/interview.db\") as conn:\n",
    "    cursor = conn.cursor()\n",
    "    cursor.execute(sql_to_reterive_cat_fact)\n",
    "    facts = cursor.fetchall()\n",
    "    print(facts[0][0]) # print the first fact \n"
   ]
  },
  {
   "cell_type": "code",
   "execution_count": 13,
   "metadata": {},
   "outputs": [],
   "source": [
    "spacy_nlp = spacy.load(\"en_core_web_sm\")\n",
    "spacied_cat_facts = [spacy_nlp(fact[0]) for fact in facts]\n",
    "\n",
    "# remove stop words and punctuations\n",
    "stopwords = spacy.lang.en.stop_words.STOP_WORDS\n",
    "\n",
    "spacied_cat_facts_wo_stopwords_punc = []\n",
    "\n",
    "for spacied_fact in spacied_cat_facts:\n",
    "    spacied_cat_facts_wo_stopwords_punc.append(\n",
    "\t[token for token in spacied_fact if token.text not in stopwords and not token.is_punct])\n"
   ]
  },
  {
   "cell_type": "code",
   "execution_count": 14,
   "metadata": {},
   "outputs": [
    {
     "data": {
      "text/plain": [
       "[Unlike,\n",
       " dogs,\n",
       " cats,\n",
       " sweet,\n",
       " tooth,\n",
       " Scientists,\n",
       " believe,\n",
       " mutation,\n",
       " key,\n",
       " taste,\n",
       " receptor]"
      ]
     },
     "execution_count": 14,
     "metadata": {},
     "output_type": "execute_result"
    }
   ],
   "source": [
    "# lemmatize the words\n",
    "lemmatized_cat_facts = []\n",
    "\n",
    "for spacied_fact in spacied_cat_facts_wo_stopwords_punc:\n",
    "    lemmatized_cat_facts.append([token.lemma_ for token in spacied_fact])"
   ]
  },
  {
   "cell_type": "code",
   "execution_count": null,
   "metadata": {},
   "outputs": [],
   "source": []
  }
 ],
 "metadata": {
  "kernelspec": {
   "display_name": "Python 3.8.6 64-bit ('3.8.6')",
   "language": "python",
   "name": "python3"
  },
  "language_info": {
   "codemirror_mode": {
    "name": "ipython",
    "version": 3
   },
   "file_extension": ".py",
   "mimetype": "text/x-python",
   "name": "python",
   "nbconvert_exporter": "python",
   "pygments_lexer": "ipython3",
   "version": "3.8.6"
  },
  "orig_nbformat": 4,
  "vscode": {
   "interpreter": {
    "hash": "d4e1244bf3e108fc0fc4c3908d651615c09c921540d1e6bbac393cecd8615f6c"
   }
  }
 },
 "nbformat": 4,
 "nbformat_minor": 2
}
